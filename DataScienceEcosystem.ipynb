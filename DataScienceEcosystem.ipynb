{
 "cells": [
  {
   "cell_type": "markdown",
   "metadata": {},
   "source": [
    "<center>\n",
    "    <img src=\"https://cf-courses-data.s3.us.cloud-object-storage.appdomain.cloud/IBMDeveloperSkillsNetwork-DS0105EN-SkillsNetwork/labs/Module2/images/SN_web_lightmode.png\" width=\"300\" alt=\"cognitiveclass.ai logo\">\n",
    "</center>\n"
   ]
  },
  {
   "cell_type": "markdown",
   "metadata": {},
   "source": [
    "#### Add your code below following the instructions given in the course\n"
   ]
  },
  {
   "cell_type": "markdown",
   "metadata": {
    "tags": []
   },
   "source": [
    "# Data Science Tools and Ecosystem"
   ]
  },
  {
   "cell_type": "markdown",
   "metadata": {
    "tags": []
   },
   "source": [
    "In this notebook, Data Science Tools and Ecosystem are summarized."
   ]
  },
  {
   "cell_type": "markdown",
   "metadata": {},
   "source": [
    "Some of the popular languages that Data Scientists use are:\n",
    "- Python – Widely used for data manipulation, analysis, and machine learning due to its extensive libraries like Pandas, NumPy, TensorFlow, and Scikit-learn.\n",
    "\n",
    "- R – Known for its strong statistical computing and data visualization capabilities, with libraries like ggplot2 and dplyr.\n",
    "\n",
    "- SQL – Essential for querying and managing structured data in databases.\n",
    "\n",
    "- Julia – Gaining popularity for high-performance numerical computing and machine learning.\n",
    "\n",
    "- SAS – Used for advanced analytics, business intelligence, and statistical analysis.\n",
    "\n",
    "- Scala – Used in combination with Apache Spark for large-scale data processing."
   ]
  },
  {
   "cell_type": "markdown",
   "metadata": {},
   "source": [
    "Some of the commonly used libraries used by Data Scientists include:\n",
    "- Pandas – A Python library for data manipulation and analysis, particularly useful for working with structured data (data frames).\n",
    "\n",
    "- NumPy – A Python library that supports large, multi-dimensional arrays and matrices, along with a collection of mathematical functions to operate on these arrays.\n",
    "\n",
    "- Matplotlib – A Python library for creating static, animated, and interactive visualizations.\n",
    "\n",
    "- Seaborn – Built on top of Matplotlib, this Python library provides a high-level interface for drawing attractive and informative statistical graphics.\n",
    "\n",
    "- Scikit-learn – A machine learning library for Python, offering simple and efficient tools for data mining and data analysis.\n",
    "\n",
    "- TensorFlow – An open-source library for machine learning and deep learning, widely used for building and training neural networks.\n",
    "\n",
    "- Keras – A user-friendly neural network library that runs on top of TensorFlow and simplifies deep learning model creation.\n",
    "\n",
    "- ggplot2 – An R library for creating complex data visualizations in a simple way.\n",
    "\n",
    "- dplyr – An R package that simplifies data manipulation tasks like filtering, selecting, and summarizing data.\n",
    "\n",
    "- Apache Spark – A distributed computing framework used for big data processing and machine learning, often combined with languages like Python or Scala."
   ]
  },
  {
   "cell_type": "markdown",
   "metadata": {},
   "source": [
    "| Data Science Tools         |\n",
    "|----------------------------|\n",
    "| Jupyter Notebook            |\n",
    "| RStudio                     |\n",
    "| Apache Zeppelin             |\n"
   ]
  },
  {
   "cell_type": "markdown",
   "metadata": {},
   "source": [
    "### Below are a few examples of evaluating arithmetic expressions in Python."
   ]
  },
  {
   "cell_type": "code",
   "execution_count": 3,
   "metadata": {
    "tags": []
   },
   "outputs": [
    {
     "data": {
      "text/plain": [
       "17"
      ]
     },
     "execution_count": 3,
     "metadata": {},
     "output_type": "execute_result"
    }
   ],
   "source": [
    "(3*4)+5\n",
    "# This a simple arithmetic expression to mutiply then add integers"
   ]
  },
  {
   "cell_type": "code",
   "execution_count": 8,
   "metadata": {
    "tags": []
   },
   "outputs": [
    {
     "name": "stdout",
     "output_type": "stream",
     "text": [
      "minutes to hours convertion is : %f 3.3333333333333335\n"
     ]
    }
   ],
   "source": [
    "minutes = 200\n",
    "hours = minutes/60\n",
    "print(\"minutes to hours convertion is : %f\", hours)\n",
    "#This will convert 200 minutes to hours by diving by 60"
   ]
  },
  {
   "cell_type": "markdown",
   "metadata": {},
   "source": [
    "**Objectives:**\n",
    "\n",
    "- List popular languages for Data Science\n",
    "- Describe common libraries used by Data Scientists\n",
    "- Understand development environments for Data Science\n",
    "- Demonstrate basic arithmetic operations in Python\n"
   ]
  },
  {
   "cell_type": "markdown",
   "metadata": {},
   "source": [
    "## Author\n",
    "\n",
    "Evi Ardiyani"
   ]
  }
 ],
 "metadata": {
  "kernelspec": {
   "display_name": "Python",
   "language": "python",
   "name": "conda-env-python-py"
  },
  "language_info": {
   "codemirror_mode": {
    "name": "ipython",
    "version": 3
   },
   "file_extension": ".py",
   "mimetype": "text/x-python",
   "name": "python",
   "nbconvert_exporter": "python",
   "pygments_lexer": "ipython3",
   "version": "3.7.12"
  }
 },
 "nbformat": 4,
 "nbformat_minor": 4
}
